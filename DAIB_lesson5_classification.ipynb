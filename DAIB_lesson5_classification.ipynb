{
  "nbformat": 4,
  "nbformat_minor": 0,
  "metadata": {
    "colab": {
      "provenance": []
    },
    "kernelspec": {
      "name": "python3",
      "display_name": "Python 3"
    },
    "language_info": {
      "name": "python"
    }
  },
  "cells": [
    {
      "cell_type": "code",
      "execution_count": null,
      "metadata": {
        "id": "dvNW84Ei8fnS",
        "colab": {
          "base_uri": "https://localhost:8080/"
        },
        "outputId": "7b36dc90-16de-4198-d158-0edc9be1b810"
      },
      "outputs": [
        {
          "output_type": "stream",
          "name": "stdout",
          "text": [
            "Collecting sklearn\n",
            "  Using cached sklearn-0.0.post12.tar.gz (2.6 kB)\n",
            "  \u001b[1;31merror\u001b[0m: \u001b[1msubprocess-exited-with-error\u001b[0m\n",
            "  \n",
            "  \u001b[31m×\u001b[0m \u001b[32mpython setup.py egg_info\u001b[0m did not run successfully.\n",
            "  \u001b[31m│\u001b[0m exit code: \u001b[1;36m1\u001b[0m\n",
            "  \u001b[31m╰─>\u001b[0m See above for output.\n",
            "  \n",
            "  \u001b[1;35mnote\u001b[0m: This error originates from a subprocess, and is likely not a problem with pip.\n",
            "  Preparing metadata (setup.py) ... \u001b[?25l\u001b[?25herror\n",
            "\u001b[1;31merror\u001b[0m: \u001b[1mmetadata-generation-failed\u001b[0m\n",
            "\n",
            "\u001b[31m×\u001b[0m Encountered error while generating package metadata.\n",
            "\u001b[31m╰─>\u001b[0m See above for output.\n",
            "\n",
            "\u001b[1;35mnote\u001b[0m: This is an issue with the package mentioned above, not pip.\n",
            "\u001b[1;36mhint\u001b[0m: See above for details.\n"
          ]
        }
      ],
      "source": [
        "import pandas as pd\n",
        "import numpy as np\n",
        "import matplotlib.pyplot as plt\n",
        "import seaborn as sns\n",
        "import kagglehub\n",
        "import zipfile # import zipfile to handle zip archives\n",
        "\n",
        "!pip install sklearn\n",
        "\n",
        "# Load the classification libraries\n",
        "from sklearn.tree import DecisionTreeClassifier\n",
        "from sklearn.model_selection import train_test_split\n",
        "from sklearn.metrics import confusion_matrix, ConfusionMatrixDisplay, classification_report\n",
        "from sklearn.metrics import accuracy_score, precision_score, recall_score, f1_score\n",
        "from sklearn.metrics import roc_curve, auc, roc_auc_score\n",
        "\n"
      ]
    },
    {
      "cell_type": "markdown",
      "source": [
        "## Loading the Dataset"
      ],
      "metadata": {
        "id": "NXZZtsYb8qh9"
      }
    },
    {
      "cell_type": "code",
      "source": [
        "# load the dataset\n",
        "col_names = ['pregnant', 'glucose', 'bp', 'skin', 'insulin', 'bmi', 'pedigree', 'age', 'Diabetic(Y/N)']\n",
        "import kagglehub\n",
        "\n",
        "# Download latest version\n",
        "path = kagglehub.dataset_download(\"uciml/pima-indians-diabetes-database\")\n",
        "\n",
        "print(\"Path to dataset files:\", path)\n",
        "# Now read the csv file from the extracted location\n",
        "pima = pd.read_csv('/root/.cache/kagglehub/datasets/uciml/pima-indians-diabetes-database/versions/1/diabetes.csv', header=0, names=col_names) # Update path to include 'diabetes.csv'\n",
        "pima.head()\n",
        "\n",
        "\n",
        "# split dataset in features and target variables\n",
        "feature_cols = ['pregnant', 'insulin', 'bmi', 'age','glucose','bp','pedigree']\n",
        "X = pima[feature_cols] # Features\n",
        "y = pima.iloc[:,8] # Target variable\n",
        "\n",
        "# split data into training set and test set\n",
        "X_train, X_test, y_train, y_test = train_test_split(X, y, test_size=0.3, random_state=42) # 70% training and 30% test"
      ],
      "metadata": {
        "id": "skcCGHUH8iWC",
        "colab": {
          "base_uri": "https://localhost:8080/",
          "height": 384
        },
        "outputId": "7f61a778-41ca-45cf-b21b-483b6a3579b8"
      },
      "execution_count": null,
      "outputs": [
        {
          "output_type": "error",
          "ename": "IsADirectoryError",
          "evalue": "[Errno 21] Is a directory: '/root/.cache/kagglehub/datasets/uciml/pima-indians-diabetes-database/versions/1'",
          "traceback": [
            "\u001b[0;31m---------------------------------------------------------------------------\u001b[0m",
            "\u001b[0;31mIsADirectoryError\u001b[0m                         Traceback (most recent call last)",
            "\u001b[0;32m<ipython-input-10-2f22ab801703>\u001b[0m in \u001b[0;36m<cell line: 0>\u001b[0;34m()\u001b[0m\n\u001b[1;32m      6\u001b[0m \u001b[0;34m\u001b[0m\u001b[0m\n\u001b[1;32m      7\u001b[0m \u001b[0;31m# Extract the zip file\u001b[0m\u001b[0;34m\u001b[0m\u001b[0;34m\u001b[0m\u001b[0m\n\u001b[0;32m----> 8\u001b[0;31m \u001b[0;32mwith\u001b[0m \u001b[0mzipfile\u001b[0m\u001b[0;34m.\u001b[0m\u001b[0mZipFile\u001b[0m\u001b[0;34m(\u001b[0m\u001b[0mpath\u001b[0m\u001b[0;34m,\u001b[0m \u001b[0;34m'r'\u001b[0m\u001b[0;34m)\u001b[0m \u001b[0;32mas\u001b[0m \u001b[0mzip_ref\u001b[0m\u001b[0;34m:\u001b[0m\u001b[0;34m\u001b[0m\u001b[0;34m\u001b[0m\u001b[0m\n\u001b[0m\u001b[1;32m      9\u001b[0m     \u001b[0mzip_ref\u001b[0m\u001b[0;34m.\u001b[0m\u001b[0mextractall\u001b[0m\u001b[0;34m(\u001b[0m\u001b[0;34m'/root/.cache/kagglehub/datasets/uciml/pima-indians-diabetes-database/versions/1/'\u001b[0m\u001b[0;34m)\u001b[0m \u001b[0;31m# Extract to the same directory\u001b[0m\u001b[0;34m\u001b[0m\u001b[0;34m\u001b[0m\u001b[0m\n\u001b[1;32m     10\u001b[0m \u001b[0;34m\u001b[0m\u001b[0m\n",
            "\u001b[0;32m/usr/lib/python3.11/zipfile.py\u001b[0m in \u001b[0;36m__init__\u001b[0;34m(self, file, mode, compression, allowZip64, compresslevel, strict_timestamps, metadata_encoding)\u001b[0m\n\u001b[1;32m   1293\u001b[0m             \u001b[0;32mwhile\u001b[0m \u001b[0;32mTrue\u001b[0m\u001b[0;34m:\u001b[0m\u001b[0;34m\u001b[0m\u001b[0;34m\u001b[0m\u001b[0m\n\u001b[1;32m   1294\u001b[0m                 \u001b[0;32mtry\u001b[0m\u001b[0;34m:\u001b[0m\u001b[0;34m\u001b[0m\u001b[0;34m\u001b[0m\u001b[0m\n\u001b[0;32m-> 1295\u001b[0;31m                     \u001b[0mself\u001b[0m\u001b[0;34m.\u001b[0m\u001b[0mfp\u001b[0m \u001b[0;34m=\u001b[0m \u001b[0mio\u001b[0m\u001b[0;34m.\u001b[0m\u001b[0mopen\u001b[0m\u001b[0;34m(\u001b[0m\u001b[0mfile\u001b[0m\u001b[0;34m,\u001b[0m \u001b[0mfilemode\u001b[0m\u001b[0;34m)\u001b[0m\u001b[0;34m\u001b[0m\u001b[0;34m\u001b[0m\u001b[0m\n\u001b[0m\u001b[1;32m   1296\u001b[0m                 \u001b[0;32mexcept\u001b[0m \u001b[0mOSError\u001b[0m\u001b[0;34m:\u001b[0m\u001b[0;34m\u001b[0m\u001b[0;34m\u001b[0m\u001b[0m\n\u001b[1;32m   1297\u001b[0m                     \u001b[0;32mif\u001b[0m \u001b[0mfilemode\u001b[0m \u001b[0;32min\u001b[0m \u001b[0mmodeDict\u001b[0m\u001b[0;34m:\u001b[0m\u001b[0;34m\u001b[0m\u001b[0;34m\u001b[0m\u001b[0m\n",
            "\u001b[0;31mIsADirectoryError\u001b[0m: [Errno 21] Is a directory: '/root/.cache/kagglehub/datasets/uciml/pima-indians-diabetes-database/versions/1'"
          ]
        }
      ]
    },
    {
      "cell_type": "markdown",
      "source": [
        "## Create Descision Tree Classifier Object"
      ],
      "metadata": {
        "id": "9oq6sjxPBsx0"
      }
    },
    {
      "cell_type": "code",
      "source": [
        "# Create Decision Tree classifer object\n",
        "clf = DecisionTreeClassifier(random_state= 0)\n",
        "\n",
        "# Train Decision Tree Classifer\n",
        "clf1 = clf.fit(X_train,y_train)\n",
        "\n",
        "#Predict the response for test dataset\n",
        "y_pred1 = clf1.predict(X_test)\n",
        "\n",
        "# print the report of the trained model\n",
        "print(f\"Report: \\n\", classification_report(y_test, y_pred1))\n",
        "\n",
        "# Display the confusion matrix\n",
        "accuracy = round(accuracy_score(y_test, y_pred1)*100, 1)\n",
        "confusion_mtx = confusion_matrix(y_test, y_pred1)\n",
        "print(confusion_mtx)\n",
        "cm_display = ConfusionMatrixDisplay(confusion_matrix = confusion_mtx, display_labels = ['0 (Healthy)', '1 Diabetic'])\n",
        "cm_display.plot()\n",
        "plt.title(f'Confusion Matrix: accuracy = {accuracy}')\n",
        "plt.show()\n"
      ],
      "metadata": {
        "id": "60o_Yk6s9Ty_"
      },
      "execution_count": null,
      "outputs": []
    },
    {
      "cell_type": "markdown",
      "source": [
        "## increase depth of the tree to improve performance"
      ],
      "metadata": {
        "id": "D1KPvz3JIMLY"
      }
    },
    {
      "cell_type": "code",
      "source": [
        "# create descisiion tree calssifier object\n",
        "clf = DecisionTreeClassifier(random_state= 0, max_depth= 3)\n",
        "\n",
        "# train the model\n",
        "clf2= clf.fit(X_train,y_train)\n",
        "\n",
        "# predict the response for test dataset\n",
        "y_pred2 = clf2.predict(X_test)\n",
        "\n",
        "# visualise the tree\n",
        "from sklearn import tree\n",
        "fig = plt.figure(figsize = (10,10))\n",
        "dTree = tree.plot_tree(clf2, feature_names =feature_cols, class_names = ['0: healthy', '1: Diabetic'], filled =True)\n",
        "plt.title('Descision Tree with Depth 3')"
      ],
      "metadata": {
        "id": "V5ugNKIyIK8o"
      },
      "execution_count": null,
      "outputs": []
    },
    {
      "cell_type": "code",
      "source": [
        "# display report and confusion matrix for the second classiefier\n",
        "\n",
        "# display report\n",
        "print(f\"Report: \\n\", classification_report(y_test, y_pred2))\n",
        "\n",
        "# Display the confusion matrix\n",
        "accuracy = round(accuracy_score(y_test, y_pred2)*100, 1)\n",
        "confusion_mtx = confusion_matrix(y_test, y_pred2)\n",
        "print(confusion_mtx)\n",
        "cm_display = ConfusionMatrixDisplay(confusion_matrix = confusion_mtx, display_labels = ['0 (Healthy)', '1 Diabetic'])\n",
        "cm_display.plot()\n",
        "plt.title(f'Confusion Matrix: accuracy = {accuracy}')\n",
        "plt.show()\n"
      ],
      "metadata": {
        "id": "aFznsBSeBpXh"
      },
      "execution_count": null,
      "outputs": []
    },
    {
      "cell_type": "markdown",
      "source": [
        "## Apply cross validation to the model"
      ],
      "metadata": {
        "id": "fcCa5ENQJnC_"
      }
    },
    {
      "cell_type": "code",
      "source": [
        "from sklearn.model_selection import cross_val_score, KFold\n",
        "\n",
        "# create the Kfold object\n",
        "kf = KFold(n_splits=5, random_state= 0, shuffle =True)\n",
        "\n",
        "# Use the Kfold object as the 'cv' param\n",
        "scores = cross_val_score(clf, X, y, cv =kf)\n",
        "Cross_validation = pd.DataFrame({'Fold': range(1,6), 'Score': scores})\n",
        "print(f'Average Score for Descision Tree Classifier: {round(np.mean(scores), 3)} \\n')\n",
        "Cross_validation.head()"
      ],
      "metadata": {
        "id": "G_NaddR6JcJd"
      },
      "execution_count": null,
      "outputs": []
    },
    {
      "cell_type": "code",
      "source": [],
      "metadata": {
        "id": "aWiD8UlKKW8q"
      },
      "execution_count": null,
      "outputs": []
    }
  ]
}