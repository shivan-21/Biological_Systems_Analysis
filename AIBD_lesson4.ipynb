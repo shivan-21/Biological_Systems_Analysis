{
  "nbformat": 4,
  "nbformat_minor": 0,
  "metadata": {
    "colab": {
      "provenance": []
    },
    "kernelspec": {
      "name": "python3",
      "display_name": "Python 3"
    },
    "language_info": {
      "name": "python"
    }
  },
  "cells": [
    {
      "cell_type": "code",
      "execution_count": null,
      "metadata": {
        "id": "qw9cGUcJPE4M"
      },
      "outputs": [],
      "source": [
        "import numpy as np\n",
        "import pandas as pd\n",
        "import seaborn as sns\n",
        "from scipy import stats # use this for hypotheis testing."
      ]
    },
    {
      "cell_type": "code",
      "source": [
        "BW = pd.read_excel('/content/drive/MyDrive/Jaxpheno11.xlsx', sheet_name= 'Body Weight')\n",
        "BW.columns = BW.iloc[0, :] # assigning 0th row elements as column titles\n",
        "\n",
        "BW = BW.drop(index = [0]) # removing 0th row\n",
        "BW.reset_index(drop =True, inplace= True) # Removing\n",
        "BW.head()"
      ],
      "metadata": {
        "colab": {
          "base_uri": "https://localhost:8080/",
          "height": 236
        },
        "id": "dtc-88FXPOsD",
        "outputId": "fc9d6741-bd01-4f08-81e4-6ca228f3b024"
      },
      "execution_count": null,
      "outputs": [
        {
          "output_type": "execute_result",
          "data": {
            "text/plain": [
              "0    Strain Vendor Number Sex Group (diet) Mouse ID   6.0    7.0    8.0  \\\n",
              "0  C57BL/6J        380050   m          DIO        1  18.4  22.10  22.50   \n",
              "1  C57BL/6J        380050   m          DIO        2  18.5  22.10  22.80   \n",
              "2  C57BL/6J        380050   m          DIO        3  18.5  22.26  23.25   \n",
              "3  C57BL/6J        380050   m          DIO        4  18.7  22.50  23.40   \n",
              "4  C57BL/6J        380050   m          DIO        5  18.8  22.57  23.62   \n",
              "\n",
              "0    9.0   10.0  ...   21.0   22.0  23.0   24.0   25.0   26.0   27.0   28.0  \\\n",
              "0  24.10  26.40  ...  44.70  44.19  44.0  45.90  46.30  47.12  47.42  47.70   \n",
              "1  25.30  26.90  ...  44.80  44.47  44.3  46.32  46.60  47.30  47.60  48.00   \n",
              "2  25.54  27.13  ...  45.07  44.60  44.4  46.56  46.70  47.80  48.20  48.14   \n",
              "3  25.54  27.30  ...  45.30  45.19  44.9  46.70  47.10  48.40  48.20  48.56   \n",
              "4  25.70  27.92  ...  45.40  45.60  46.0  46.79  47.24  48.50  48.20  48.74   \n",
              "\n",
              "0   29.0   30.0  \n",
              "0  47.22  47.29  \n",
              "1  47.50  47.40  \n",
              "2  47.50  47.80  \n",
              "3  47.52  47.98  \n",
              "4  48.10  48.01  \n",
              "\n",
              "[5 rows x 30 columns]"
            ],
            "text/html": [
              "\n",
              "  <div id=\"df-3ca78228-162d-48ec-8bf6-f47c08bce67c\" class=\"colab-df-container\">\n",
              "    <div>\n",
              "<style scoped>\n",
              "    .dataframe tbody tr th:only-of-type {\n",
              "        vertical-align: middle;\n",
              "    }\n",
              "\n",
              "    .dataframe tbody tr th {\n",
              "        vertical-align: top;\n",
              "    }\n",
              "\n",
              "    .dataframe thead th {\n",
              "        text-align: right;\n",
              "    }\n",
              "</style>\n",
              "<table border=\"1\" class=\"dataframe\">\n",
              "  <thead>\n",
              "    <tr style=\"text-align: right;\">\n",
              "      <th></th>\n",
              "      <th>Strain</th>\n",
              "      <th>Vendor Number</th>\n",
              "      <th>Sex</th>\n",
              "      <th>Group (diet)</th>\n",
              "      <th>Mouse ID</th>\n",
              "      <th>6.0</th>\n",
              "      <th>7.0</th>\n",
              "      <th>8.0</th>\n",
              "      <th>9.0</th>\n",
              "      <th>10.0</th>\n",
              "      <th>...</th>\n",
              "      <th>21.0</th>\n",
              "      <th>22.0</th>\n",
              "      <th>23.0</th>\n",
              "      <th>24.0</th>\n",
              "      <th>25.0</th>\n",
              "      <th>26.0</th>\n",
              "      <th>27.0</th>\n",
              "      <th>28.0</th>\n",
              "      <th>29.0</th>\n",
              "      <th>30.0</th>\n",
              "    </tr>\n",
              "  </thead>\n",
              "  <tbody>\n",
              "    <tr>\n",
              "      <th>0</th>\n",
              "      <td>C57BL/6J</td>\n",
              "      <td>380050</td>\n",
              "      <td>m</td>\n",
              "      <td>DIO</td>\n",
              "      <td>1</td>\n",
              "      <td>18.4</td>\n",
              "      <td>22.10</td>\n",
              "      <td>22.50</td>\n",
              "      <td>24.10</td>\n",
              "      <td>26.40</td>\n",
              "      <td>...</td>\n",
              "      <td>44.70</td>\n",
              "      <td>44.19</td>\n",
              "      <td>44.0</td>\n",
              "      <td>45.90</td>\n",
              "      <td>46.30</td>\n",
              "      <td>47.12</td>\n",
              "      <td>47.42</td>\n",
              "      <td>47.70</td>\n",
              "      <td>47.22</td>\n",
              "      <td>47.29</td>\n",
              "    </tr>\n",
              "    <tr>\n",
              "      <th>1</th>\n",
              "      <td>C57BL/6J</td>\n",
              "      <td>380050</td>\n",
              "      <td>m</td>\n",
              "      <td>DIO</td>\n",
              "      <td>2</td>\n",
              "      <td>18.5</td>\n",
              "      <td>22.10</td>\n",
              "      <td>22.80</td>\n",
              "      <td>25.30</td>\n",
              "      <td>26.90</td>\n",
              "      <td>...</td>\n",
              "      <td>44.80</td>\n",
              "      <td>44.47</td>\n",
              "      <td>44.3</td>\n",
              "      <td>46.32</td>\n",
              "      <td>46.60</td>\n",
              "      <td>47.30</td>\n",
              "      <td>47.60</td>\n",
              "      <td>48.00</td>\n",
              "      <td>47.50</td>\n",
              "      <td>47.40</td>\n",
              "    </tr>\n",
              "    <tr>\n",
              "      <th>2</th>\n",
              "      <td>C57BL/6J</td>\n",
              "      <td>380050</td>\n",
              "      <td>m</td>\n",
              "      <td>DIO</td>\n",
              "      <td>3</td>\n",
              "      <td>18.5</td>\n",
              "      <td>22.26</td>\n",
              "      <td>23.25</td>\n",
              "      <td>25.54</td>\n",
              "      <td>27.13</td>\n",
              "      <td>...</td>\n",
              "      <td>45.07</td>\n",
              "      <td>44.60</td>\n",
              "      <td>44.4</td>\n",
              "      <td>46.56</td>\n",
              "      <td>46.70</td>\n",
              "      <td>47.80</td>\n",
              "      <td>48.20</td>\n",
              "      <td>48.14</td>\n",
              "      <td>47.50</td>\n",
              "      <td>47.80</td>\n",
              "    </tr>\n",
              "    <tr>\n",
              "      <th>3</th>\n",
              "      <td>C57BL/6J</td>\n",
              "      <td>380050</td>\n",
              "      <td>m</td>\n",
              "      <td>DIO</td>\n",
              "      <td>4</td>\n",
              "      <td>18.7</td>\n",
              "      <td>22.50</td>\n",
              "      <td>23.40</td>\n",
              "      <td>25.54</td>\n",
              "      <td>27.30</td>\n",
              "      <td>...</td>\n",
              "      <td>45.30</td>\n",
              "      <td>45.19</td>\n",
              "      <td>44.9</td>\n",
              "      <td>46.70</td>\n",
              "      <td>47.10</td>\n",
              "      <td>48.40</td>\n",
              "      <td>48.20</td>\n",
              "      <td>48.56</td>\n",
              "      <td>47.52</td>\n",
              "      <td>47.98</td>\n",
              "    </tr>\n",
              "    <tr>\n",
              "      <th>4</th>\n",
              "      <td>C57BL/6J</td>\n",
              "      <td>380050</td>\n",
              "      <td>m</td>\n",
              "      <td>DIO</td>\n",
              "      <td>5</td>\n",
              "      <td>18.8</td>\n",
              "      <td>22.57</td>\n",
              "      <td>23.62</td>\n",
              "      <td>25.70</td>\n",
              "      <td>27.92</td>\n",
              "      <td>...</td>\n",
              "      <td>45.40</td>\n",
              "      <td>45.60</td>\n",
              "      <td>46.0</td>\n",
              "      <td>46.79</td>\n",
              "      <td>47.24</td>\n",
              "      <td>48.50</td>\n",
              "      <td>48.20</td>\n",
              "      <td>48.74</td>\n",
              "      <td>48.10</td>\n",
              "      <td>48.01</td>\n",
              "    </tr>\n",
              "  </tbody>\n",
              "</table>\n",
              "<p>5 rows × 30 columns</p>\n",
              "</div>\n",
              "    <div class=\"colab-df-buttons\">\n",
              "\n",
              "  <div class=\"colab-df-container\">\n",
              "    <button class=\"colab-df-convert\" onclick=\"convertToInteractive('df-3ca78228-162d-48ec-8bf6-f47c08bce67c')\"\n",
              "            title=\"Convert this dataframe to an interactive table.\"\n",
              "            style=\"display:none;\">\n",
              "\n",
              "  <svg xmlns=\"http://www.w3.org/2000/svg\" height=\"24px\" viewBox=\"0 -960 960 960\">\n",
              "    <path d=\"M120-120v-720h720v720H120Zm60-500h600v-160H180v160Zm220 220h160v-160H400v160Zm0 220h160v-160H400v160ZM180-400h160v-160H180v160Zm440 0h160v-160H620v160ZM180-180h160v-160H180v160Zm440 0h160v-160H620v160Z\"/>\n",
              "  </svg>\n",
              "    </button>\n",
              "\n",
              "  <style>\n",
              "    .colab-df-container {\n",
              "      display:flex;\n",
              "      gap: 12px;\n",
              "    }\n",
              "\n",
              "    .colab-df-convert {\n",
              "      background-color: #E8F0FE;\n",
              "      border: none;\n",
              "      border-radius: 50%;\n",
              "      cursor: pointer;\n",
              "      display: none;\n",
              "      fill: #1967D2;\n",
              "      height: 32px;\n",
              "      padding: 0 0 0 0;\n",
              "      width: 32px;\n",
              "    }\n",
              "\n",
              "    .colab-df-convert:hover {\n",
              "      background-color: #E2EBFA;\n",
              "      box-shadow: 0px 1px 2px rgba(60, 64, 67, 0.3), 0px 1px 3px 1px rgba(60, 64, 67, 0.15);\n",
              "      fill: #174EA6;\n",
              "    }\n",
              "\n",
              "    .colab-df-buttons div {\n",
              "      margin-bottom: 4px;\n",
              "    }\n",
              "\n",
              "    [theme=dark] .colab-df-convert {\n",
              "      background-color: #3B4455;\n",
              "      fill: #D2E3FC;\n",
              "    }\n",
              "\n",
              "    [theme=dark] .colab-df-convert:hover {\n",
              "      background-color: #434B5C;\n",
              "      box-shadow: 0px 1px 3px 1px rgba(0, 0, 0, 0.15);\n",
              "      filter: drop-shadow(0px 1px 2px rgba(0, 0, 0, 0.3));\n",
              "      fill: #FFFFFF;\n",
              "    }\n",
              "  </style>\n",
              "\n",
              "    <script>\n",
              "      const buttonEl =\n",
              "        document.querySelector('#df-3ca78228-162d-48ec-8bf6-f47c08bce67c button.colab-df-convert');\n",
              "      buttonEl.style.display =\n",
              "        google.colab.kernel.accessAllowed ? 'block' : 'none';\n",
              "\n",
              "      async function convertToInteractive(key) {\n",
              "        const element = document.querySelector('#df-3ca78228-162d-48ec-8bf6-f47c08bce67c');\n",
              "        const dataTable =\n",
              "          await google.colab.kernel.invokeFunction('convertToInteractive',\n",
              "                                                    [key], {});\n",
              "        if (!dataTable) return;\n",
              "\n",
              "        const docLinkHtml = 'Like what you see? Visit the ' +\n",
              "          '<a target=\"_blank\" href=https://colab.research.google.com/notebooks/data_table.ipynb>data table notebook</a>'\n",
              "          + ' to learn more about interactive tables.';\n",
              "        element.innerHTML = '';\n",
              "        dataTable['output_type'] = 'display_data';\n",
              "        await google.colab.output.renderOutput(dataTable, element);\n",
              "        const docLink = document.createElement('div');\n",
              "        docLink.innerHTML = docLinkHtml;\n",
              "        element.appendChild(docLink);\n",
              "      }\n",
              "    </script>\n",
              "  </div>\n",
              "\n",
              "\n",
              "<div id=\"df-91df8b78-ea55-4eb9-a4d8-3756b599baae\">\n",
              "  <button class=\"colab-df-quickchart\" onclick=\"quickchart('df-91df8b78-ea55-4eb9-a4d8-3756b599baae')\"\n",
              "            title=\"Suggest charts\"\n",
              "            style=\"display:none;\">\n",
              "\n",
              "<svg xmlns=\"http://www.w3.org/2000/svg\" height=\"24px\"viewBox=\"0 0 24 24\"\n",
              "     width=\"24px\">\n",
              "    <g>\n",
              "        <path d=\"M19 3H5c-1.1 0-2 .9-2 2v14c0 1.1.9 2 2 2h14c1.1 0 2-.9 2-2V5c0-1.1-.9-2-2-2zM9 17H7v-7h2v7zm4 0h-2V7h2v10zm4 0h-2v-4h2v4z\"/>\n",
              "    </g>\n",
              "</svg>\n",
              "  </button>\n",
              "\n",
              "<style>\n",
              "  .colab-df-quickchart {\n",
              "      --bg-color: #E8F0FE;\n",
              "      --fill-color: #1967D2;\n",
              "      --hover-bg-color: #E2EBFA;\n",
              "      --hover-fill-color: #174EA6;\n",
              "      --disabled-fill-color: #AAA;\n",
              "      --disabled-bg-color: #DDD;\n",
              "  }\n",
              "\n",
              "  [theme=dark] .colab-df-quickchart {\n",
              "      --bg-color: #3B4455;\n",
              "      --fill-color: #D2E3FC;\n",
              "      --hover-bg-color: #434B5C;\n",
              "      --hover-fill-color: #FFFFFF;\n",
              "      --disabled-bg-color: #3B4455;\n",
              "      --disabled-fill-color: #666;\n",
              "  }\n",
              "\n",
              "  .colab-df-quickchart {\n",
              "    background-color: var(--bg-color);\n",
              "    border: none;\n",
              "    border-radius: 50%;\n",
              "    cursor: pointer;\n",
              "    display: none;\n",
              "    fill: var(--fill-color);\n",
              "    height: 32px;\n",
              "    padding: 0;\n",
              "    width: 32px;\n",
              "  }\n",
              "\n",
              "  .colab-df-quickchart:hover {\n",
              "    background-color: var(--hover-bg-color);\n",
              "    box-shadow: 0 1px 2px rgba(60, 64, 67, 0.3), 0 1px 3px 1px rgba(60, 64, 67, 0.15);\n",
              "    fill: var(--button-hover-fill-color);\n",
              "  }\n",
              "\n",
              "  .colab-df-quickchart-complete:disabled,\n",
              "  .colab-df-quickchart-complete:disabled:hover {\n",
              "    background-color: var(--disabled-bg-color);\n",
              "    fill: var(--disabled-fill-color);\n",
              "    box-shadow: none;\n",
              "  }\n",
              "\n",
              "  .colab-df-spinner {\n",
              "    border: 2px solid var(--fill-color);\n",
              "    border-color: transparent;\n",
              "    border-bottom-color: var(--fill-color);\n",
              "    animation:\n",
              "      spin 1s steps(1) infinite;\n",
              "  }\n",
              "\n",
              "  @keyframes spin {\n",
              "    0% {\n",
              "      border-color: transparent;\n",
              "      border-bottom-color: var(--fill-color);\n",
              "      border-left-color: var(--fill-color);\n",
              "    }\n",
              "    20% {\n",
              "      border-color: transparent;\n",
              "      border-left-color: var(--fill-color);\n",
              "      border-top-color: var(--fill-color);\n",
              "    }\n",
              "    30% {\n",
              "      border-color: transparent;\n",
              "      border-left-color: var(--fill-color);\n",
              "      border-top-color: var(--fill-color);\n",
              "      border-right-color: var(--fill-color);\n",
              "    }\n",
              "    40% {\n",
              "      border-color: transparent;\n",
              "      border-right-color: var(--fill-color);\n",
              "      border-top-color: var(--fill-color);\n",
              "    }\n",
              "    60% {\n",
              "      border-color: transparent;\n",
              "      border-right-color: var(--fill-color);\n",
              "    }\n",
              "    80% {\n",
              "      border-color: transparent;\n",
              "      border-right-color: var(--fill-color);\n",
              "      border-bottom-color: var(--fill-color);\n",
              "    }\n",
              "    90% {\n",
              "      border-color: transparent;\n",
              "      border-bottom-color: var(--fill-color);\n",
              "    }\n",
              "  }\n",
              "</style>\n",
              "\n",
              "  <script>\n",
              "    async function quickchart(key) {\n",
              "      const quickchartButtonEl =\n",
              "        document.querySelector('#' + key + ' button');\n",
              "      quickchartButtonEl.disabled = true;  // To prevent multiple clicks.\n",
              "      quickchartButtonEl.classList.add('colab-df-spinner');\n",
              "      try {\n",
              "        const charts = await google.colab.kernel.invokeFunction(\n",
              "            'suggestCharts', [key], {});\n",
              "      } catch (error) {\n",
              "        console.error('Error during call to suggestCharts:', error);\n",
              "      }\n",
              "      quickchartButtonEl.classList.remove('colab-df-spinner');\n",
              "      quickchartButtonEl.classList.add('colab-df-quickchart-complete');\n",
              "    }\n",
              "    (() => {\n",
              "      let quickchartButtonEl =\n",
              "        document.querySelector('#df-91df8b78-ea55-4eb9-a4d8-3756b599baae button');\n",
              "      quickchartButtonEl.style.display =\n",
              "        google.colab.kernel.accessAllowed ? 'block' : 'none';\n",
              "    })();\n",
              "  </script>\n",
              "</div>\n",
              "\n",
              "    </div>\n",
              "  </div>\n"
            ],
            "application/vnd.google.colaboratory.intrinsic+json": {
              "type": "dataframe",
              "variable_name": "BW"
            }
          },
          "metadata": {},
          "execution_count": 43
        }
      ]
    },
    {
      "cell_type": "code",
      "source": [
        "Control = BW[BW['Group (diet)'] == 'Control'].reset_index(drop =True) # reset index indexing from the first one\n",
        "DIO= BW[BW['Group (diet)'] == 'DIO'].reset_index(drop =True)"
      ],
      "metadata": {
        "id": "lEAt6c5cPcsM"
      },
      "execution_count": null,
      "outputs": []
    },
    {
      "cell_type": "markdown",
      "source": [
        "##**F-test (Comparing Significance of Variance)**\n",
        "\n",
        "**$H_0$ :** There is no significant difference in variance between the body weight of rat in Control group and DIO group $(σ_{control} = σ_{dio})$\n",
        "<br><br>\n",
        "**$H_1$ :** There is a significant difference in variance between the body weight of rat in Control group and DIO group $(σ_{control} \\neq σ_{dio})$"
      ],
      "metadata": {
        "id": "odZRteZ1RwSU"
      }
    },
    {
      "cell_type": "code",
      "source": [
        "ctrl_early = Control.iloc[:,5] # take 6th column i.e. week 6\n",
        "dio_early = DIO.iloc[:, 5]\n",
        "\n",
        "var_ctrl_e = np.var(ctrl_early) # take variance\n",
        "var_dio_e = np.var(dio_early)"
      ],
      "metadata": {
        "id": "rxdmGFb7RhV_"
      },
      "execution_count": null,
      "outputs": []
    },
    {
      "cell_type": "code",
      "source": [
        "F_calc = var_ctrl_e/var_dio_e # F test to decide if we pool\n",
        "n1 = len(ctrl_early)\n",
        "n2 = len(dio_early)\n",
        "alpha = 0.05 # p value for stat significance\n",
        "\n",
        "F_crit = stats.f.ppf(q= 1- alpha, dfn =n1, dfd =n2) # get F distribution\n",
        "print(f'Control Variance = {round(var_ctrl_e,3)} \\nDIO Variance = {round(var_dio_e,3)} \\nCalculated F value = {round(F_calc,3)}\\nCritical F value  = {round(F_crit,3)}\\n')\n",
        "\n",
        "# Calculate the CDF (cummulative distribution function) of the F-distribution\n",
        "# cdf gives probab a random variable is less than or equal to chosen value\n",
        "cdf = stats.f.cdf(F_calc, n1, n2) # gives probab of observing the F statistic\n",
        "print('cdf and its shape are:\\t',cdf.shape, cdf)\n",
        "\n",
        "# Calculate the corresponding p-value\n",
        "p_value = 1 - cdf\n",
        "\n",
        "# check the hypothesis\n",
        "if F_calc < F_crit:\n",
        "  print(f\"There is no significant difference in variance between the body weight of rat in Control group and DIO group,  (p = {round(p_value,3)})\")\n",
        "else:\n",
        "  print(f'There is a significant difference in variance between the body weight of rat in Control group and DIO group, (p = {round(p_value,3)})')"
      ],
      "metadata": {
        "colab": {
          "base_uri": "https://localhost:8080/"
        },
        "id": "O-Od4I38SJ2_",
        "outputId": "cbe23fa8-754d-4817-8ae8-dbecd7232227"
      },
      "execution_count": null,
      "outputs": [
        {
          "output_type": "stream",
          "name": "stdout",
          "text": [
            "Control Variance = 1.172 \n",
            "DIO Variance = 1.022 \n",
            "Calculated F value = 1.147\n",
            "Critical F value  = 1.392\n",
            "\n",
            "cdf and its shape are:\t () 0.7534216998223144\n",
            "There is no significant difference in variance between the body weight of rat in Control group and DIO group,  (p = 0.247)\n"
          ]
        }
      ]
    },
    {
      "cell_type": "markdown",
      "source": [
        "## same process for later days of the study"
      ],
      "metadata": {
        "id": "LOy4M3O6K-cp"
      }
    },
    {
      "cell_type": "code",
      "source": [
        "ctrl_late = Control.iloc[:,29] # take week 29\n",
        "dio_late = DIO.iloc[:,29]\n",
        "var_ctr_l = np.var(ctrl_late)\n",
        "var_dio_l = np.var(dio_late)"
      ],
      "metadata": {
        "id": "Ro-_zunAS_dI"
      },
      "execution_count": null,
      "outputs": []
    },
    {
      "cell_type": "code",
      "source": [
        "# apply F test\n",
        "\n",
        "F_calc = var_ctr_l/var_dio_l\n",
        "n1= len(ctrl_late) -1 # -1 to\n",
        "n2 = len(dio_late) -1\n",
        "apha = 0.05\n",
        "F_crit = stats.f.ppf(q =1-alpha, dfn =n1, dfd =n2)\n",
        "print(f\"Control Variance = {round(var_ctr_l,3)} \\nDIO Variance = {round(var_dio_l,3)}, \\nCalculated F value = {round(F_calc,3)}, \\nCritical F value = {round(F_crit,3)}\")\n",
        "\n",
        "\n",
        "# calculate the CDF of the F distribution\n",
        "cdf= stats.f.cdf(F_calc, n1, n2)\n",
        "p_value = 1- cdf # get p value\n",
        "\n",
        "# check hypothesis\n",
        "if F_calc < F_crit:\n",
        "  print(f\"There is no significant difference in variance between the body weight of rat in Control group and DIO group,  (p = {round(p_value,3)})\")\n",
        "else:\n",
        "  print(f\"Reject Null Hypothesis as  p = {round(p_value, 3)}\")\n"
      ],
      "metadata": {
        "colab": {
          "base_uri": "https://localhost:8080/"
        },
        "id": "BUZMBTJALF44",
        "outputId": "f9ca1800-1187-4e3d-b632-80f48c9d2410"
      },
      "execution_count": null,
      "outputs": [
        {
          "output_type": "stream",
          "name": "stdout",
          "text": [
            "Control Variance = 12.297 \n",
            "DIO Variance = 7.027, \n",
            "Calculated F value = 1.75, \n",
            "Critical F value = 1.395\n",
            "Reject Null Hypothesis as  p = 0.003\n"
          ]
        }
      ]
    },
    {
      "cell_type": "markdown",
      "source": [
        "## Example with Student T test"
      ],
      "metadata": {
        "id": "WJLUU0sRNw6r"
      }
    },
    {
      "cell_type": "code",
      "source": [
        "# take early days of the study\n",
        "n1 =len(ctrl_early)\n",
        "n2 = len(dio_early)\n",
        "\n",
        "sp = np.sqrt(((n1 -1)*np.var(ctrl_early) +\n",
        "             (n2-1)*np.var(dio_early)) / (n1+n2-2))\n",
        "x1= np.mean(ctrl_early)\n",
        "x2= np.mean(dio_early)\n",
        "df = n1+n2-2\n",
        "\n",
        "t_calc = (x1-x2)/ (sp * np.sqrt(1/n1 + 1/n2))\n",
        "\n",
        "alpha = 0.05\n",
        "t_crit = stats.t.ppf(1-alpha, df)\n",
        "p_value = 1 -stats.t.cdf(t_calc, df)\n",
        "\n",
        "print(f'Control mean = {round(x1,3)} \\nDIO mean = {round(x2,3)} \\nPooled Variance = {round(sp,3)}\\n')\n",
        "print(f'Calculated t value = {round(t_calc,3)}\\nCritical t value  = {round(t_crit,3)}\\n')\n",
        "\n",
        "# Check the hypothesis\n",
        "if -t_crit< t_calc < t_crit:\n",
        "    print(f\"Accept the null hypothesis (p = {round(p_value,3)})\")\n",
        "else:\n",
        "    print(f\"Reject the null hypothesis (p = {round(p_value,3)})\")"
      ],
      "metadata": {
        "colab": {
          "base_uri": "https://localhost:8080/"
        },
        "id": "wesQ87NlMrRx",
        "outputId": "b9485df0-9d6a-49c4-f7af-fea2cc6d28cb"
      },
      "execution_count": null,
      "outputs": [
        {
          "output_type": "stream",
          "name": "stdout",
          "text": [
            "Control mean = 20.845 \n",
            "DIO mean = 20.422 \n",
            "Pooled Variance = 1.04\n",
            "\n",
            "Calculated t value = 2.816\n",
            "Critical t value  = 1.653\n",
            "\n",
            "Reject the null hypothesis (p = 0.003)\n"
          ]
        }
      ]
    },
    {
      "cell_type": "code",
      "source": [
        "n1 = len(ctrl_late)\n",
        "n2 = len(dio_late)\n",
        "\n",
        "v1 = np.var(ctrl_late)\n",
        "v2 = np.var(dio_late)\n",
        "\n",
        "x1 = np.mean(ctrl_late)\n",
        "x2 = np.mean(dio_late)\n",
        "\n",
        "df = (n1+n2-2)\n",
        "\n",
        "t_calc = (x1-x2)/np.sqrt((v1/n1)+(v2/n2))\n",
        "\n",
        "alpha = 0.05          # Significance level is set at 5%\n",
        "t_crit = stats.t.ppf(1-alpha, df)\n",
        "p_value = 1 - stats.t.cdf(t_calc, df)\n",
        "\n",
        "print(f'Control mean = {round(x1,3)}\\tControl Variance = {round(v1,3)} \\nDIO mean = {round(x2,3)}\\tDIO Variance = {round(v2,3)}\\n')\n",
        "print(f'Calculated t value = {round(t_calc,3)}\\nCritical t value  = {round(t_crit,3)}\\n')\n",
        "\n",
        "# Check the hypothesis\n",
        "if -t_crit< t_calc < t_crit:\n",
        "    print(f\"Accept the null hypothesis (p = {round(p_value,3)})\")\n",
        "else:\n",
        "    print(f\"Reject the null hypothesis (p = {round(p_value,3)})\")"
      ],
      "metadata": {
        "colab": {
          "base_uri": "https://localhost:8080/"
        },
        "id": "obSoaJ4bPCAe",
        "outputId": "7e9b8743-57a5-4f0d-97dd-2df8f1015c1c"
      },
      "execution_count": null,
      "outputs": [
        {
          "output_type": "stream",
          "name": "stdout",
          "text": [
            "Control mean = 38.821\tControl Variance = 12.297 \n",
            "DIO mean = 52.368\tDIO Variance = 7.027\n",
            "\n",
            "Calculated t value = -29.402\n",
            "Critical t value  = 1.653\n",
            "\n",
            "Reject the null hypothesis (p = 1.0)\n"
          ]
        }
      ]
    },
    {
      "cell_type": "markdown",
      "source": [
        "## Mann Whitney Test"
      ],
      "metadata": {
        "id": "_EjAO3kmQXwj"
      }
    },
    {
      "cell_type": "code",
      "source": [
        "# U test for week 6\n",
        "\n",
        "from scipy.stats import mannwhitneyu\n",
        "\n",
        "# load the glucose sheet\n",
        "data =pd.read_excel('/content/drive/MyDrive/Jaxpheno11.xlsx', sheet_name = 'Glucose')\n",
        "\n",
        "# Fiiltere data for the grps and week\n",
        "group_dio = data[data[\"Group (diet)\"] =='DIO'][6]\n",
        "group_control= data[data[\"Group (diet)\"] == 'Control'][6]\n",
        "\n",
        "# perform U test\n",
        "stat, p = mannwhitneyu(group_dio, group_control, alternative = 'two-sided')\n",
        "\n",
        "# U test for week 6\n",
        "\n",
        "from scipy.stats import mannwhitneyu\n",
        "import pandas as pd\n",
        "\n",
        "# load the glucose sheet\n",
        "data =pd.read_excel('/content/drive/MyDrive/Jaxpheno11.xlsx', sheet_name = 'Glucose')\n",
        "\n",
        "# Fiiltere data for the grps and week\n",
        "group_dio = data[data[\"Group (diet)\"] =='DIO'][6]\n",
        "group_control= data[data[\"Group (diet)\"] == 'Control'][6]\n",
        "\n",
        "# perform U test\n",
        "stat, p = mannwhitneyu(group_dio, group_control, alternative = 'two-sided')\n",
        "\n",
        "# display the results\n",
        "print(\"Mann-Whitney U test results:\")\n",
        "print(f\"U-statistic: {stat:.3f}\")\n",
        "print(f\"p-value: {p:.3f}\")\n",
        "\n",
        "# Step 6: Interpret the results\n",
        "if p < 0.05:\n",
        "    print(\"There is a significant difference in glucose levels between the DIO and Control groups.\")\n",
        "else:\n",
        "    print(\"There is no significant difference in glucose levels between the DIO and Control groups.\")\n"
      ],
      "metadata": {
        "colab": {
          "base_uri": "https://localhost:8080/"
        },
        "id": "MVwVQVnrQOyN",
        "outputId": "44969d1d-82a4-4a13-bf8e-210d5853f4fb"
      },
      "execution_count": null,
      "outputs": [
        {
          "output_type": "stream",
          "name": "stdout",
          "text": [
            "Mann-Whitney U test results:\n",
            "U-statistic: 3507.500\n",
            "p-value: 0.295\n",
            "There is no significant difference in glucose levels between the DIO and Control groups.\n"
          ]
        }
      ]
    },
    {
      "cell_type": "code",
      "source": [
        "# Mannwhitneyu for later stages\n",
        "\n",
        "from scipy.stats import norm\n",
        "\n",
        "# data is already loaded in prev cell\n",
        "\n",
        "# Step 2: Filter the data for the two groups and week 30, dropping NaN values\n",
        "group_dio = data[data[\"Group (diet)\"] == \"DIO\"][30].dropna()\n",
        "group_control = data[data[\"Group (diet)\"] == \"Control\"][30].dropna()\n",
        "\n",
        "# Step 3: Perform the Mann-Whitney U Test\n",
        "stat, p = mannwhitneyu(group_dio, group_control, alternative=\"two-sided\")\n",
        "\n",
        "# Step 4: Compute the critical U value\n",
        "n1 = len(group_dio)\n",
        "n2 = len(group_control)\n",
        "alpha = 0.05\n",
        "\n",
        "# Use the normal approximation for large sample sizes or exact tables for small samples\n",
        "mean_u = (n1 * n2) / 2\n",
        "std_u = ((n1 * n2 * (n1 + n2 + 1)) / 12) ** 0.5\n",
        "z_critical = norm.ppf(1 - alpha / 2)  # Two-tailed test\n",
        "u_critical = mean_u - z_critical * std_u\n",
        "\n",
        "# Step 5: Display the results\n",
        "print(\"Mann-Whitney U Test Results:\")\n",
        "print(f\"U Statistic: {stat:.2f}\")\n",
        "print(f\"U Critical Value: {u_critical:.2f}\")\n",
        "print(f\"Sample sizes: n1 = {n1}, n2 = {n2}\")\n",
        "\n",
        "# Step 6: Interpret the results\n",
        "if stat < u_critical:\n",
        "    print(\"There is a significant difference in glucose levels between the DIO and Control groups.\")\n",
        "else:\n",
        "    print(\"There is no significant difference in glucose levels between the DIO and Control groups.\")"
      ],
      "metadata": {
        "colab": {
          "base_uri": "https://localhost:8080/"
        },
        "id": "UWHBINHTRC3l",
        "outputId": "04beb4c3-34ca-4fe5-b9ea-346770b0b83b"
      },
      "execution_count": null,
      "outputs": [
        {
          "output_type": "stream",
          "name": "stdout",
          "text": [
            "Mann-Whitney U Test Results:\n",
            "U Statistic: 2700.50\n",
            "U Critical Value: 1322.23\n",
            "Sample sizes: n1 = 70, n2 = 48\n",
            "There is no significant difference in glucose levels between the DIO and Control groups.\n"
          ]
        }
      ]
    },
    {
      "cell_type": "markdown",
      "source": [
        "## Annova"
      ],
      "metadata": {
        "id": "e5GttYvoSqdx"
      }
    },
    {
      "cell_type": "code",
      "source": [
        "# ANNOVA test for weeks 6 and 30 with Nan removal\n",
        "from scipy.stats import f_oneway\n",
        "\n",
        "# same glucose dataset\n",
        "\n",
        "# filter data for DIO and control\n",
        "group_dio_week6 = data[data['Group (diet)'] == 'DIO'][6].dropna()\n",
        "group_control_week6 = data[data['Group (diet)'] == 'Control'][6].dropna()\n",
        "group_dio_week30= data[data['Group (diet)'] == 'DIO'][30].dropna()\n",
        "group_control_week30 = data[data['Group (diet)'] == 'Control'][30].dropna()\n",
        "\n",
        "# combine groups for annova\n",
        "all_groups = [group_dio_week6, group_control_week6, group_dio_week30, group_control_week30]\n",
        "\n",
        "# perform annova\n",
        "f_stat, p = f_oneway(*all_groups)\n",
        "\n",
        "# display results\n",
        "print(\"ANOVA Results:\")\n",
        "print(f\"F-statistic: {f_stat:.3f}\")\n",
        "print(f\"p-value: {p:.3f}\")\n",
        "\n",
        "# Step 6: Interpret the results\n",
        "if p < 0.05:\n",
        "    print(\"There is a significant difference in glucose levels across groups (DIO and Control for weeks 6 and 30).\")\n",
        "else:\n",
        "    print(\"There is no significant difference in glucose levels across groups (DIO and Control for weeks 6 and 30).\")"
      ],
      "metadata": {
        "colab": {
          "base_uri": "https://localhost:8080/"
        },
        "id": "1aGMxt-fShsN",
        "outputId": "5e6449a5-5389-46b2-860d-e75e369e7add"
      },
      "execution_count": null,
      "outputs": [
        {
          "output_type": "stream",
          "name": "stdout",
          "text": [
            "ANOVA Results:\n",
            "F-statistic: 34.231\n",
            "p-value: 0.000\n",
            "There is a significant difference in glucose levels across groups (DIO and Control for weeks 6 and 30).\n"
          ]
        }
      ]
    },
    {
      "cell_type": "code",
      "source": [],
      "metadata": {
        "id": "XiGNrruiTeT9"
      },
      "execution_count": null,
      "outputs": []
    }
  ]
}