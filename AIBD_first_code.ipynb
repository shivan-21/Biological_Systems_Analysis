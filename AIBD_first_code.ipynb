{
  "nbformat": 4,
  "nbformat_minor": 0,
  "metadata": {
    "colab": {
      "provenance": []
    },
    "kernelspec": {
      "name": "python3",
      "display_name": "Python 3"
    },
    "language_info": {
      "name": "python"
    }
  },
  "cells": [
    {
      "cell_type": "code",
      "execution_count": null,
      "metadata": {
        "colab": {
          "base_uri": "https://localhost:8080/"
        },
        "id": "iCOe8Ih19CBY",
        "outputId": "3b1f86d8-dbea-4808-eb56-b415783ecc12"
      },
      "outputs": [
        {
          "output_type": "stream",
          "name": "stdout",
          "text": [
            "Course Name: Analysis and Interpretation of Biological Data\n",
            "Class_slot C\n",
            "1.2\n"
          ]
        }
      ],
      "source": [
        "#Data Types\n",
        "course_name = \"Analysis and Interpretation of Biological Data\"\n",
        "slot = \"C\"\n",
        "classroom = 1.2\n",
        "\n",
        "print(\"Course Name:\", course_name)\n",
        "print(\"Class_slot\", slot)\n",
        "print(classroom)"
      ]
    },
    {
      "cell_type": "code",
      "source": [
        "#Lists - mutable, ordered collections that can hold a variety of data types\n",
        "gene_A_expression = [5.6, 7.2, 8.1]\n",
        "gene_B_expression = [2.3, 3.4, 4.5]\n",
        "\n",
        "# Print the expression levels\n",
        "print(\"Gene A Expression Levels:\", gene_A_expression)\n",
        "print(\"Gene B Expression Levels:\", gene_B_expression)\n",
        "\n",
        "# Accessing specific values\n",
        "print(\"First expession value of Gene A:\", gene_A_expression[0])  # Accessing first value of Gene A"
      ],
      "metadata": {
        "colab": {
          "base_uri": "https://localhost:8080/"
        },
        "id": "EWPNxAyr9Mkm",
        "outputId": "115162f7-a2da-48d4-9811-85b1d852ae1e"
      },
      "execution_count": null,
      "outputs": [
        {
          "output_type": "stream",
          "name": "stdout",
          "text": [
            "Gene A Expression Levels: [5.6, 7.2, 8.1]\n",
            "Gene B Expression Levels: [2.3, 3.4, 4.5]\n",
            "First expession value of Gene A: 5.6\n"
          ]
        }
      ]
    },
    {
      "cell_type": "code",
      "source": [
        "#NumPy and Pandas\n",
        "import numpy as np                     #Importing NumPy for numerical operations\n",
        "import pandas as pd                    #Importing Pandas for data manipulation\n",
        "\n",
        "# Dictionary for GeneA and GeneB\n",
        "gene_expression = {\n",
        "    'GeneA': [5.6, 7.2, 8.1],           #Expression levels for GeneA\n",
        "    'GeneB': [2.3, 3.4, 4.5]            #Expression levels for GeneB\n",
        "}\n",
        "\n",
        "# Numpy arrays for gene expression levels\n",
        "gene_A_expression = np.array([5.6, 7.2, 8.1])\n",
        "gene_B_expression = np.array([2.3, 3.4, 4.5])\n",
        "\n",
        "# Creat dictionary with names and expression and convert to pandas dataframe\n",
        "data = { 'Gene': ['GeneA', 'GeneB'],\n",
        "          'Expresion Level': [np.mean(gene_expression['GeneA']),\n",
        "                              np.mean(gene_expression['GeneB'])]\n",
        "         }\n",
        "df = pd.DataFrame(data)\n",
        "print(df)\n",
        "\n",
        "\n"
      ],
      "metadata": {
        "colab": {
          "base_uri": "https://localhost:8080/"
        },
        "id": "14nj-1vH9PPB",
        "outputId": "7e86cc44-c1ae-46ac-d9f3-f4dd0cc24732"
      },
      "execution_count": null,
      "outputs": [
        {
          "output_type": "stream",
          "name": "stdout",
          "text": [
            "    Gene  Expresion Level\n",
            "0  GeneA         6.966667\n",
            "1  GeneB         3.400000\n"
          ]
        }
      ]
    },
    {
      "cell_type": "code",
      "source": [
        "## Using a function\n",
        "#Functions - sum, range, len, abs etc.\n",
        "gene_a_expression = [5.6, 7.2, 8.1, 2.3, 3.4]\n",
        "\n",
        "number_of_samples = len(gene_a_expression)\n",
        "print(\"Number of samples:\", number_of_samples)\n",
        "\n",
        "# max and min expression levels\n",
        "print(f\"Maximum expression level: {max(gene_a_expression)} \")\n",
        "print(f\"Minimum expression level: {min(gene_a_expression)} \")\n",
        "\n",
        "# absolute change between first and second sample\n",
        "print(f\"Absolute channge between expression in first and second sample: {np.abs(gene_a_expression[1] - gene_a_expression[0]):0.2f} \")\n",
        "\n",
        "# iterate through the samples\n",
        "print(\"Given below are all expression rates\")\n",
        "for i in range(number_of_samples):\n",
        "  print(f\"Sample {i+1}: Expresion level: {gene_a_expression[i]}\")"
      ],
      "metadata": {
        "colab": {
          "base_uri": "https://localhost:8080/"
        },
        "id": "f_-Pob6T942O",
        "outputId": "b7ee9e5a-2556-4b65-d4c3-1370b2acf8df"
      },
      "execution_count": null,
      "outputs": [
        {
          "output_type": "stream",
          "name": "stdout",
          "text": [
            "Number of samples: 5\n",
            "Maximum expression level: 8.1 \n",
            "Minimum expression level: 2.3 \n",
            "Absolute channge between expression in first and second sample: 1.60 \n",
            "Given below are all expression rates\n",
            "Sample 1: Expresion level: 5.6\n",
            "Sample 2: Expresion level: 7.2\n",
            "Sample 3: Expresion level: 8.1\n",
            "Sample 4: Expresion level: 2.3\n",
            "Sample 5: Expresion level: 3.4\n"
          ]
        }
      ]
    },
    {
      "cell_type": "code",
      "source": [
        "# Data Importing\n",
        "\n",
        "file_path = '/content/drive/MyDrive/Jaxpheno11.xlsx'\n",
        "df = pd.read_excel(file_path, sheet_name= 'Body Weight')\n",
        "\n",
        "# mamnipulate the data\n",
        "\n",
        "# extract data from row 2: and column 6  to 30\n",
        "extracted_data = df.iloc[1: 5:29]\n",
        "print(extracted_data) # display data extracted using iloc\n",
        "\n",
        "# sort the data into descending order by age\n",
        "sorted_df = df.sort_values(by = 'Age (w)', ascending = False)\n",
        "sorted_df = df.iloc[1:, 5:29]\n",
        "print(\"The data frame sorted by Age (w): \")\n",
        "print(sorted_df)\n"
      ],
      "metadata": {
        "colab": {
          "base_uri": "https://localhost:8080/"
        },
        "id": "ZH4h54gCAU8l",
        "outputId": "b46adcb6-3f08-4d19-f8a0-e203b5fa0c36"
      },
      "execution_count": null,
      "outputs": [
        {
          "output_type": "stream",
          "name": "stdout",
          "text": [
            "  Unnamed: 0 Unnamed: 1 Unnamed: 2 Unnamed: 3 Unnamed: 4  Age (w)  Unnamed: 6  \\\n",
            "1   C57BL/6J     380050          m        DIO          1     18.4        22.1   \n",
            "\n",
            "   Unnamed: 7  Unnamed: 8  Unnamed: 9  ...  Unnamed: 20  Unnamed: 21  \\\n",
            "1        22.5        24.1        26.4  ...         44.7        44.19   \n",
            "\n",
            "   Unnamed: 22  Unnamed: 23  Unnamed: 24  Unnamed: 25  Unnamed: 26  \\\n",
            "1         44.0         45.9         46.3        47.12        47.42   \n",
            "\n",
            "   Unnamed: 27  Unnamed: 28  Unnamed: 29  \n",
            "1         47.7        47.22        47.29  \n",
            "\n",
            "[1 rows x 30 columns]\n",
            "The data frame sorted by Age (w): \n",
            "     Age (w)  Unnamed: 6  Unnamed: 7  Unnamed: 8  Unnamed: 9  Unnamed: 10  \\\n",
            "1      18.40       22.10       22.50       24.10       26.40        27.75   \n",
            "2      18.50       22.10       22.80       25.30       26.90        29.10   \n",
            "3      18.50       22.26       23.25       25.54       27.13        29.30   \n",
            "4      18.70       22.50       23.40       25.54       27.30        29.40   \n",
            "5      18.80       22.57       23.62       25.70       27.92        29.40   \n",
            "..       ...         ...         ...         ...         ...          ...   \n",
            "196    22.37       24.40       26.31         NaN         NaN          NaN   \n",
            "197    22.40       24.42       26.72         NaN         NaN          NaN   \n",
            "198    22.50       24.51       27.00         NaN         NaN          NaN   \n",
            "199    22.50       24.60       27.27         NaN         NaN          NaN   \n",
            "200    23.80       26.40       27.70         NaN         NaN          NaN   \n",
            "\n",
            "     Unnamed: 11  Unnamed: 12  Unnamed: 13  Unnamed: 14  ...  Unnamed: 19  \\\n",
            "1          30.10        32.00        33.10        35.09  ...        42.27   \n",
            "2          30.30        32.34        33.30        35.72  ...        42.70   \n",
            "3          30.65        32.50        33.70        36.20  ...        43.00   \n",
            "4          30.77        32.60        33.72        36.51  ...        43.04   \n",
            "5          30.80        32.60        34.00        37.20  ...        43.05   \n",
            "..           ...          ...          ...          ...  ...          ...   \n",
            "196          NaN          NaN          NaN          NaN  ...          NaN   \n",
            "197          NaN          NaN          NaN          NaN  ...          NaN   \n",
            "198          NaN          NaN          NaN          NaN  ...          NaN   \n",
            "199          NaN          NaN          NaN          NaN  ...          NaN   \n",
            "200          NaN          NaN          NaN          NaN  ...          NaN   \n",
            "\n",
            "     Unnamed: 20  Unnamed: 21  Unnamed: 22  Unnamed: 23  Unnamed: 24  \\\n",
            "1          44.70        44.19         44.0        45.90        46.30   \n",
            "2          44.80        44.47         44.3        46.32        46.60   \n",
            "3          45.07        44.60         44.4        46.56        46.70   \n",
            "4          45.30        45.19         44.9        46.70        47.10   \n",
            "5          45.40        45.60         46.0        46.79        47.24   \n",
            "..           ...          ...          ...          ...          ...   \n",
            "196          NaN          NaN          NaN          NaN          NaN   \n",
            "197          NaN          NaN          NaN          NaN          NaN   \n",
            "198          NaN          NaN          NaN          NaN          NaN   \n",
            "199          NaN          NaN          NaN          NaN          NaN   \n",
            "200          NaN          NaN          NaN          NaN          NaN   \n",
            "\n",
            "     Unnamed: 25  Unnamed: 26  Unnamed: 27  Unnamed: 28  \n",
            "1          47.12        47.42        47.70        47.22  \n",
            "2          47.30        47.60        48.00        47.50  \n",
            "3          47.80        48.20        48.14        47.50  \n",
            "4          48.40        48.20        48.56        47.52  \n",
            "5          48.50        48.20        48.74        48.10  \n",
            "..           ...          ...          ...          ...  \n",
            "196          NaN          NaN          NaN          NaN  \n",
            "197          NaN          NaN          NaN          NaN  \n",
            "198          NaN          NaN          NaN          NaN  \n",
            "199          NaN          NaN          NaN          NaN  \n",
            "200          NaN          NaN          NaN          NaN  \n",
            "\n",
            "[200 rows x 24 columns]\n"
          ]
        }
      ]
    },
    {
      "cell_type": "code",
      "source": [
        "## Handling NAN values\n",
        "# basic stragegy is to omit the rows\n",
        "\n",
        "new_data = extracted_data.dropna() # using unsorted data as an example\n",
        "print(new_data)\n",
        "\n",
        "# Replace NANs with 0\n",
        "filled_data = extracted_data.fillna(0)\n",
        "print(filled_data)"
      ],
      "metadata": {
        "colab": {
          "base_uri": "https://localhost:8080/"
        },
        "id": "a0a5jIXWCeY3",
        "outputId": "cdeeda4a-5535-4df3-9b2f-d5a12a6c3b0d"
      },
      "execution_count": null,
      "outputs": [
        {
          "output_type": "stream",
          "name": "stdout",
          "text": [
            "  Unnamed: 0 Unnamed: 1 Unnamed: 2 Unnamed: 3 Unnamed: 4  Age (w)  Unnamed: 6  \\\n",
            "1   C57BL/6J     380050          m        DIO          1     18.4        22.1   \n",
            "\n",
            "   Unnamed: 7  Unnamed: 8  Unnamed: 9  ...  Unnamed: 20  Unnamed: 21  \\\n",
            "1        22.5        24.1        26.4  ...         44.7        44.19   \n",
            "\n",
            "   Unnamed: 22  Unnamed: 23  Unnamed: 24  Unnamed: 25  Unnamed: 26  \\\n",
            "1         44.0         45.9         46.3        47.12        47.42   \n",
            "\n",
            "   Unnamed: 27  Unnamed: 28  Unnamed: 29  \n",
            "1         47.7        47.22        47.29  \n",
            "\n",
            "[1 rows x 30 columns]\n",
            "  Unnamed: 0  Unnamed: 1 Unnamed: 2 Unnamed: 3  Unnamed: 4  Age (w)  \\\n",
            "1   C57BL/6J      380050          m        DIO           1     18.4   \n",
            "\n",
            "   Unnamed: 6  Unnamed: 7  Unnamed: 8  Unnamed: 9  ...  Unnamed: 20  \\\n",
            "1        22.1        22.5        24.1        26.4  ...         44.7   \n",
            "\n",
            "   Unnamed: 21  Unnamed: 22  Unnamed: 23  Unnamed: 24  Unnamed: 25  \\\n",
            "1        44.19         44.0         45.9         46.3        47.12   \n",
            "\n",
            "   Unnamed: 26  Unnamed: 27  Unnamed: 28  Unnamed: 29  \n",
            "1        47.42         47.7        47.22        47.29  \n",
            "\n",
            "[1 rows x 30 columns]\n"
          ]
        },
        {
          "output_type": "stream",
          "name": "stderr",
          "text": [
            "<ipython-input-16-4307f0efd31c>:8: FutureWarning: Downcasting object dtype arrays on .fillna, .ffill, .bfill is deprecated and will change in a future version. Call result.infer_objects(copy=False) instead. To opt-in to the future behavior, set `pd.set_option('future.no_silent_downcasting', True)`\n",
            "  filled_data = extracted_data.fillna(0)\n"
          ]
        }
      ]
    },
    {
      "cell_type": "code",
      "source": [],
      "metadata": {
        "id": "CeBc-4klC7FE"
      },
      "execution_count": null,
      "outputs": []
    }
  ]
}